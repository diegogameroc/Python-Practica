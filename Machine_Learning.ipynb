{
  "nbformat": 4,
  "nbformat_minor": 0,
  "metadata": {
    "colab": {
      "provenance": [],
      "toc_visible": true,
      "include_colab_link": true
    },
    "kernelspec": {
      "name": "python3",
      "display_name": "Python 3"
    },
    "language_info": {
      "name": "python"
    }
  },
  "cells": [
    {
      "cell_type": "markdown",
      "metadata": {
        "id": "view-in-github",
        "colab_type": "text"
      },
      "source": [
        "<a href=\"https://colab.research.google.com/github/diegogameroc/Python-Practica/blob/main/Machine_Learning.ipynb\" target=\"_parent\"><img src=\"https://colab.research.google.com/assets/colab-badge.svg\" alt=\"Open In Colab\"/></a>"
      ]
    },
    {
      "cell_type": "code",
      "execution_count": 2,
      "metadata": {
        "id": "nT0uhwA4cO5l"
      },
      "outputs": [],
      "source": [
        "import numpy as np"
      ]
    },
    {
      "cell_type": "markdown",
      "source": [
        "# Sección nueva"
      ],
      "metadata": {
        "id": "2inmH14Uw9jU"
      }
    },
    {
      "cell_type": "code",
      "source": [
        "\n",
        "help(np.array)"
      ],
      "metadata": {
        "id": "EzABnWYccqRN"
      },
      "execution_count": null,
      "outputs": []
    },
    {
      "cell_type": "code",
      "source": [
        "ListaData = [12,32,345,36,45,35,342,34,123,12,43]\n",
        "vec1 = np.array(ListaData)"
      ],
      "metadata": {
        "id": "qfhJe7mqhmEd"
      },
      "execution_count": null,
      "outputs": []
    },
    {
      "cell_type": "code",
      "source": [
        "import random as rnd\n",
        "edades=[]\n",
        "\n",
        "for i in range(10000):\n",
        "    edades.append(rnd.randint(0,120))"
      ],
      "metadata": {
        "id": "dKe4yCBGhxB4"
      },
      "execution_count": null,
      "outputs": []
    },
    {
      "cell_type": "code",
      "source": [
        "#ndarray es un iterable: Mostremos las edadee que son numero pared\n",
        "\n",
        "for elemento in edades:\n",
        "    if elemento % 2 == 0:\n",
        "        print(edades)"
      ],
      "metadata": {
        "id": "Wp4O0azzhrR9"
      },
      "execution_count": null,
      "outputs": []
    },
    {
      "cell_type": "code",
      "source": [
        "x = np.random.laplace(loc=12.3,scale=3.14,size=10000)\n",
        "M = np.random.laplace(loc=12.3,scale=3.14,size=(10**2,10**2))\n",
        "D = np.random.laplace(loc=12.3,scale=3.14,size=(3,3,3))"
      ],
      "metadata": {
        "id": "jbJMbUhxjGBN"
      },
      "execution_count": 9,
      "outputs": []
    },
    {
      "cell_type": "code",
      "source": [
        "# Atributo ndim : numero de dimensiones\n",
        "x.ndim"
      ],
      "metadata": {
        "colab": {
          "base_uri": "https://localhost:8080/"
        },
        "id": "Kse9kUXajpju",
        "outputId": "964e6902-f507-476c-ab6d-f2094fcf72fd"
      },
      "execution_count": 6,
      "outputs": [
        {
          "output_type": "execute_result",
          "data": {
            "text/plain": [
              "1"
            ]
          },
          "metadata": {},
          "execution_count": 6
        }
      ]
    },
    {
      "cell_type": "code",
      "source": [
        "# Atributo ndim : numero de dimensiones\n",
        "M.ndim"
      ],
      "metadata": {
        "colab": {
          "base_uri": "https://localhost:8080/"
        },
        "id": "lkVMhNoyju8i",
        "outputId": "7eb12497-0c0c-4a84-8ca5-3694b7071db9"
      },
      "execution_count": 10,
      "outputs": [
        {
          "output_type": "execute_result",
          "data": {
            "text/plain": [
              "2"
            ]
          },
          "metadata": {},
          "execution_count": 10
        }
      ]
    },
    {
      "cell_type": "code",
      "source": [
        "# Atributo ndim : numero de dimensiones\n",
        "D.ndim"
      ],
      "metadata": {
        "colab": {
          "base_uri": "https://localhost:8080/"
        },
        "id": "u0mUXDm-j29b",
        "outputId": "69589f1b-c09e-42a2-92d3-f4b04af107a9"
      },
      "execution_count": 11,
      "outputs": [
        {
          "output_type": "execute_result",
          "data": {
            "text/plain": [
              "3"
            ]
          },
          "metadata": {},
          "execution_count": 11
        }
      ]
    },
    {
      "cell_type": "code",
      "source": [
        "# Acceso a la 5ta columna de M: Objeto bidimensional\n",
        "M[:,4]"
      ],
      "metadata": {
        "colab": {
          "base_uri": "https://localhost:8080/"
        },
        "id": "2hNHixZUj-Nv",
        "outputId": "6f9b0158-ff2f-4a41-da8e-882a176e1f9d"
      },
      "execution_count": 12,
      "outputs": [
        {
          "output_type": "execute_result",
          "data": {
            "text/plain": [
              "array([14.16346043, -1.74801505, 15.35343066, 10.13847833, 10.03826183,\n",
              "        9.13716855, 15.30927595, 10.80524518, 12.31395143, 13.25065591,\n",
              "       16.50686428, 14.63307915, 11.72027037, 13.91903245, 11.15821685,\n",
              "        9.63296272, 16.19596142,  9.0345627 , 19.31489887, 13.20979067,\n",
              "       12.11425677, 11.62672602, 10.86189186, 11.96797967, 11.77459581,\n",
              "       13.18697026, 10.23076609, 12.1923193 ,  8.01326802, 13.03405089,\n",
              "       14.19565452,  9.57218959, 10.00409062, 12.98341629,  2.55887735,\n",
              "        2.24703102,  9.06726409, 14.71865331, 16.23312735,  7.27052051,\n",
              "       14.45021611,  7.38489437, 12.28745933, 12.55052958,  7.87476821,\n",
              "       14.15086656, 11.72292652, 10.29778387,  8.10393593, 13.51222694,\n",
              "       22.68975283, 13.0219907 , 13.24144367,  9.30376581,  6.73856189,\n",
              "       12.68881542, 13.00839389, 10.24336923, 14.05679399, 15.6379088 ,\n",
              "       15.0916504 , 11.83806104, 15.48208833,  6.77999375, 16.90780584,\n",
              "       15.28121626, 12.28222778,  6.58300722, 11.1497122 , 12.33038362,\n",
              "       19.63194292, 14.63009755, 17.05597794, 11.57922691, 11.31601204,\n",
              "        0.75625569, 15.53399269, 13.65277447, 14.10014982, 15.95650324,\n",
              "       24.17245653, 13.80463018, 11.62070184, 10.90210471, 10.64023916,\n",
              "        9.77524857, 13.27629174, 11.46440415, 10.14304162, 13.25808213,\n",
              "       14.42247632, 11.33763852,  8.37466946,  5.97998735, 17.26211042,\n",
              "       13.1691223 , 12.68136706,  8.91618725,  1.20720454,  9.78101589])"
            ]
          },
          "metadata": {},
          "execution_count": 12
        }
      ]
    },
    {
      "cell_type": "code",
      "source": [
        "# Acceso a la 5ta columna de M: Objeto bidimensional\n",
        "M[:,4]"
      ],
      "metadata": {
        "colab": {
          "base_uri": "https://localhost:8080/"
        },
        "outputId": "6f9b0158-ff2f-4a41-da8e-882a176e1f9d",
        "id": "SKDP1YAKkd4G"
      },
      "execution_count": null,
      "outputs": [
        {
          "output_type": "execute_result",
          "data": {
            "text/plain": [
              "array([14.16346043, -1.74801505, 15.35343066, 10.13847833, 10.03826183,\n",
              "        9.13716855, 15.30927595, 10.80524518, 12.31395143, 13.25065591,\n",
              "       16.50686428, 14.63307915, 11.72027037, 13.91903245, 11.15821685,\n",
              "        9.63296272, 16.19596142,  9.0345627 , 19.31489887, 13.20979067,\n",
              "       12.11425677, 11.62672602, 10.86189186, 11.96797967, 11.77459581,\n",
              "       13.18697026, 10.23076609, 12.1923193 ,  8.01326802, 13.03405089,\n",
              "       14.19565452,  9.57218959, 10.00409062, 12.98341629,  2.55887735,\n",
              "        2.24703102,  9.06726409, 14.71865331, 16.23312735,  7.27052051,\n",
              "       14.45021611,  7.38489437, 12.28745933, 12.55052958,  7.87476821,\n",
              "       14.15086656, 11.72292652, 10.29778387,  8.10393593, 13.51222694,\n",
              "       22.68975283, 13.0219907 , 13.24144367,  9.30376581,  6.73856189,\n",
              "       12.68881542, 13.00839389, 10.24336923, 14.05679399, 15.6379088 ,\n",
              "       15.0916504 , 11.83806104, 15.48208833,  6.77999375, 16.90780584,\n",
              "       15.28121626, 12.28222778,  6.58300722, 11.1497122 , 12.33038362,\n",
              "       19.63194292, 14.63009755, 17.05597794, 11.57922691, 11.31601204,\n",
              "        0.75625569, 15.53399269, 13.65277447, 14.10014982, 15.95650324,\n",
              "       24.17245653, 13.80463018, 11.62070184, 10.90210471, 10.64023916,\n",
              "        9.77524857, 13.27629174, 11.46440415, 10.14304162, 13.25808213,\n",
              "       14.42247632, 11.33763852,  8.37466946,  5.97998735, 17.26211042,\n",
              "       13.1691223 , 12.68136706,  8.91618725,  1.20720454,  9.78101589])"
            ]
          },
          "metadata": {},
          "execution_count": 12
        }
      ]
    },
    {
      "cell_type": "code",
      "source": [
        "D[:,:,0]"
      ],
      "metadata": {
        "colab": {
          "base_uri": "https://localhost:8080/"
        },
        "id": "WSMueqmxkfyD",
        "outputId": "ed6de48d-6c19-4369-b78c-4f3f2d399f09"
      },
      "execution_count": 13,
      "outputs": [
        {
          "output_type": "execute_result",
          "data": {
            "text/plain": [
              "array([[10.7995144 , 15.87090383, 14.38993764],\n",
              "       [ 7.82427326, 12.40911805,  6.98749102],\n",
              "       [10.74057023,  9.53242187, 12.78364109]])"
            ]
          },
          "metadata": {},
          "execution_count": 13
        }
      ]
    },
    {
      "cell_type": "code",
      "source": [
        "#Atributo Size\n",
        "x.size\n"
      ],
      "metadata": {
        "colab": {
          "base_uri": "https://localhost:8080/"
        },
        "id": "r50LWp_ok_k2",
        "outputId": "9d1fea14-4ea1-4d17-fc39-b819ef1917b7"
      },
      "execution_count": 15,
      "outputs": [
        {
          "output_type": "execute_result",
          "data": {
            "text/plain": [
              "10000"
            ]
          },
          "metadata": {},
          "execution_count": 15
        }
      ]
    },
    {
      "cell_type": "code",
      "source": [
        "M.size"
      ],
      "metadata": {
        "colab": {
          "base_uri": "https://localhost:8080/"
        },
        "id": "0IHE7QdUlQCm",
        "outputId": "d9d05bd9-ced7-413e-9424-7d93bf795995"
      },
      "execution_count": 16,
      "outputs": [
        {
          "output_type": "execute_result",
          "data": {
            "text/plain": [
              "10000"
            ]
          },
          "metadata": {},
          "execution_count": 16
        }
      ]
    },
    {
      "cell_type": "code",
      "source": [
        "D.size"
      ],
      "metadata": {
        "colab": {
          "base_uri": "https://localhost:8080/"
        },
        "id": "0gR98DGolRk8",
        "outputId": "3cfe891a-da91-446b-a1f3-b06adf9f5ca9"
      },
      "execution_count": 17,
      "outputs": [
        {
          "output_type": "execute_result",
          "data": {
            "text/plain": [
              "27"
            ]
          },
          "metadata": {},
          "execution_count": 17
        }
      ]
    },
    {
      "cell_type": "code",
      "source": [
        "# Atributo dtype : tipo de dato de cada elemento del objeto ndarray\n",
        "x.dtype"
      ],
      "metadata": {
        "colab": {
          "base_uri": "https://localhost:8080/"
        },
        "id": "EQlsylGClgPG",
        "outputId": "f051755e-3c8f-4e01-e505-44f931dd9d58"
      },
      "execution_count": 18,
      "outputs": [
        {
          "output_type": "execute_result",
          "data": {
            "text/plain": [
              "dtype('float64')"
            ]
          },
          "metadata": {},
          "execution_count": 18
        }
      ]
    },
    {
      "cell_type": "code",
      "source": [
        "# Atributo dtype : tipo de dato de cada elemento del objeto ndarray\n",
        "x.dtype, M.dtype, D.dtype"
      ],
      "metadata": {
        "colab": {
          "base_uri": "https://localhost:8080/"
        },
        "id": "jO37FiNdlmX9",
        "outputId": "3aac08a9-a82c-45f0-a8ed-e1c6f9223d58"
      },
      "execution_count": 19,
      "outputs": [
        {
          "output_type": "execute_result",
          "data": {
            "text/plain": [
              "(dtype('float64'), dtype('float64'), dtype('float64'))"
            ]
          },
          "metadata": {},
          "execution_count": 19
        }
      ]
    },
    {
      "cell_type": "code",
      "source": [
        "#atributo shape\n",
        "x.shape,M.shape,D.shape"
      ],
      "metadata": {
        "colab": {
          "base_uri": "https://localhost:8080/"
        },
        "id": "oPjF5e9VmEkI",
        "outputId": "0acd5988-c622-4d59-8b99-6fc6a5b8fafd"
      },
      "execution_count": 23,
      "outputs": [
        {
          "output_type": "execute_result",
          "data": {
            "text/plain": [
              "((10000,), (100, 100), (3, 3, 3))"
            ]
          },
          "metadata": {},
          "execution_count": 23
        }
      ]
    },
    {
      "cell_type": "code",
      "source": [
        "# Atributo itemsize : Numero de bytes de cada elemento en el objeto de tipo ndarray\n",
        "x.itemsize,M.itemsize,D.itemsize"
      ],
      "metadata": {
        "colab": {
          "base_uri": "https://localhost:8080/"
        },
        "id": "IjfpRkJImJZ7",
        "outputId": "d7751bac-d6ba-4345-efa8-ea1606ebe094"
      },
      "execution_count": 24,
      "outputs": [
        {
          "output_type": "execute_result",
          "data": {
            "text/plain": [
              "(8, 8, 8)"
            ]
          },
          "metadata": {},
          "execution_count": 24
        }
      ]
    },
    {
      "cell_type": "code",
      "source": [
        "dir(M)"
      ],
      "metadata": {
        "id": "4sb0M1-DnUUx"
      },
      "execution_count": null,
      "outputs": []
    },
    {
      "cell_type": "code",
      "source": [
        "# Aprender a utilizar cada uno de los metodos de interes que se puede aplicar\n",
        "# a un dato de tipo ndarray\n"
      ],
      "metadata": {
        "id": "UgsofSPsnd4T"
      },
      "execution_count": null,
      "outputs": []
    },
    {
      "cell_type": "code",
      "source": [
        "#Carguemos el modulo time para tomar el timepo que se demora un calculo\n",
        "import time\n",
        "#Benchmark (TEST DE STRESS) sobre numeros enteros\n",
        "for tipo_entero in [np.int8, np.int16,np.int32,np.int64]:\n",
        "  # Inciiamos un cronometro\n",
        "  t0 = time.time()\n",
        "  #Desarrollamos una operacion matematica\n",
        "  sum(np.random.randint(0,120,size=10**7,dtype=tipo_entero))\n",
        "  #detenemos el cronometro\n",
        "  tf = time.time()\n",
        "\n",
        "  print(\"Tipo de entero \",tipo_entero)\n",
        "  print(\"Tiempo de procesamiento \",tf-t0)\n",
        "  print(\"*\"*100)"
      ],
      "metadata": {
        "colab": {
          "base_uri": "https://localhost:8080/"
        },
        "collapsed": true,
        "id": "Z4iCCY60ot9l",
        "outputId": "b402089a-67fd-4918-cafe-79f665b208c7"
      },
      "execution_count": 31,
      "outputs": [
        {
          "output_type": "stream",
          "name": "stdout",
          "text": [
            "Tipo de entero  <class 'numpy.int8'>\n",
            "Tiempo de procesamiento  1.8374698162078857\n",
            "****************************************************************************************************\n",
            "Tipo de entero  <class 'numpy.int16'>\n",
            "Tiempo de procesamiento  2.326037883758545\n",
            "****************************************************************************************************\n",
            "Tipo de entero  <class 'numpy.int32'>\n",
            "Tiempo de procesamiento  2.70991587638855\n",
            "****************************************************************************************************\n",
            "Tipo de entero  <class 'numpy.int64'>\n",
            "Tiempo de procesamiento  0.948540210723877\n",
            "****************************************************************************************************\n"
          ]
        }
      ]
    },
    {
      "cell_type": "code",
      "source": [
        "for tipo_float in [np.float32, np.float64, np.float128]:\n",
        "    t0 = time.time()\n",
        "    # Desarrollo una operacion sencilla del algebra lineal : Calcular la inversa de una matriz\n",
        "    np.linalg.inv(np.array(np.random.chisquare(9, (10**4, 10**4)), dtype=tipo_float))\n",
        "    tf = time.time()\n",
        "    print(\"Tipo de punto flotante :\", tipo_float)\n",
        "    print(\"Tiempo de procesamiento \", tf - t0)\n",
        "    print(\"*\" * 100)\n"
      ],
      "metadata": {
        "id": "BvSjYxkMqfSu"
      },
      "execution_count": null,
      "outputs": []
    },
    {
      "cell_type": "code",
      "source": [],
      "metadata": {
        "id": "kqwbWZzzrHF_"
      },
      "execution_count": null,
      "outputs": []
    }
  ]
}